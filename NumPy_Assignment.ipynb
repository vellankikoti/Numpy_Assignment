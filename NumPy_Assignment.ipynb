{
 "cells": [
  {
   "cell_type": "code",
   "execution_count": 1,
   "metadata": {},
   "outputs": [],
   "source": [
    "import numpy as np"
   ]
  },
  {
   "cell_type": "code",
   "execution_count": 2,
   "metadata": {},
   "outputs": [
    {
     "data": {
      "text/plain": [
       "array([0, 0, 0, 0, 1, 0, 0, 0, 0, 0])"
      ]
     },
     "execution_count": 2,
     "metadata": {},
     "output_type": "execute_result"
    }
   ],
   "source": [
    "# 1. Create a null array of size 10 but the fifth value which is 1\n",
    "a = np.zeros(10,dtype=int)\n",
    "a[4] = 1\n",
    "a"
   ]
  },
  {
   "cell_type": "code",
   "execution_count": 6,
   "metadata": {},
   "outputs": [
    {
     "data": {
      "text/plain": [
       "array([0, 0, 0, 0, 0, 1, 0, 0, 0, 0])"
      ]
     },
     "execution_count": 6,
     "metadata": {},
     "output_type": "execute_result"
    }
   ],
   "source": [
    "# 2. Reverse a above created array (first element becomes last)\n",
    "a[::-1]"
   ]
  },
  {
   "cell_type": "code",
   "execution_count": 7,
   "metadata": {
    "scrolled": true
   },
   "outputs": [
    {
     "data": {
      "text/plain": [
       "array([[0, 1, 2],\n",
       "       [3, 4, 5],\n",
       "       [6, 7, 8]])"
      ]
     },
     "execution_count": 7,
     "metadata": {},
     "output_type": "execute_result"
    }
   ],
   "source": [
    "# 3. Create a 3x3 matrix with values ranging from 0 to 8\n",
    "a = np.arange(0,9)\n",
    "a.reshape(3,3)"
   ]
  },
  {
   "cell_type": "code",
   "execution_count": 10,
   "metadata": {},
   "outputs": [
    {
     "data": {
      "text/plain": [
       "array([[[0.39954936, 0.26467574, 0.51559244],\n",
       "        [0.43644455, 0.23226578, 0.25713774],\n",
       "        [0.78137971, 0.43350952, 0.67534497]],\n",
       "\n",
       "       [[0.30573843, 0.18881224, 0.76784483],\n",
       "        [0.61877996, 0.84999096, 0.29639535],\n",
       "        [0.35089765, 0.42588586, 0.29609906]],\n",
       "\n",
       "       [[0.50266083, 0.43381867, 0.98268351],\n",
       "        [0.50293124, 0.90978648, 0.96021505],\n",
       "        [0.4014833 , 0.0514572 , 0.54385722]]])"
      ]
     },
     "execution_count": 10,
     "metadata": {},
     "output_type": "execute_result"
    }
   ],
   "source": [
    "# 4. Create a 3x3x3 array with random values\n",
    "np.random.random((3,3,3))"
   ]
  },
  {
   "cell_type": "code",
   "execution_count": 11,
   "metadata": {},
   "outputs": [
    {
     "data": {
      "text/plain": [
       "(0.0024973557484010422, 0.9983424165797776)"
      ]
     },
     "execution_count": 11,
     "metadata": {},
     "output_type": "execute_result"
    }
   ],
   "source": [
    "# 5. Create a 10x10 array with random values and find the minimum and maximum values\n",
    "a = np.random.random((10,10))\n",
    "a\n",
    "a.min(),a.max()"
   ]
  },
  {
   "cell_type": "code",
   "execution_count": 12,
   "metadata": {},
   "outputs": [
    {
     "data": {
      "text/plain": [
       "0.5460701015432754"
      ]
     },
     "execution_count": 12,
     "metadata": {},
     "output_type": "execute_result"
    }
   ],
   "source": [
    "# 6. Create a random vector of size 30 and find the mean value\n",
    "a = np.random.random(30)\n",
    "a.mean()"
   ]
  },
  {
   "cell_type": "code",
   "execution_count": 16,
   "metadata": {},
   "outputs": [
    {
     "data": {
      "text/plain": [
       "array([[1, 1, 1],\n",
       "       [1, 0, 1],\n",
       "       [1, 1, 1]])"
      ]
     },
     "execution_count": 16,
     "metadata": {},
     "output_type": "execute_result"
    }
   ],
   "source": [
    "# 7. Create a 2d array with 1 on the border and 0 inside\n",
    "a = np.ones(shape=(3,3),dtype=int)\n",
    "a\n",
    "# To make it possible we have to select middle part except borders\n",
    "a[1:-1,1:-1]\n",
    "# Now make it zero\n",
    "a[1:-1,1:-1]=0\n",
    "a"
   ]
  },
  {
   "cell_type": "code",
   "execution_count": 19,
   "metadata": {},
   "outputs": [
    {
     "data": {
      "text/plain": [
       "array([[1, 1, 1, 1],\n",
       "       [1, 0, 0, 1],\n",
       "       [1, 0, 0, 1],\n",
       "       [1, 1, 1, 1]])"
      ]
     },
     "execution_count": 19,
     "metadata": {},
     "output_type": "execute_result"
    }
   ],
   "source": [
    "#7(2) Similarly for 4x4\n",
    "a = np.ones(shape=(4,4),dtype=int)\n",
    "a\n",
    "# Middle part\n",
    "a[1:-1,1:-1]\n",
    "# Now make this part zero\n",
    "a[1:-1,1:-1]=0\n",
    "a"
   ]
  },
  {
   "cell_type": "code",
   "execution_count": 20,
   "metadata": {},
   "outputs": [
    {
     "data": {
      "text/plain": [
       "(1, 5, 4)"
      ]
     },
     "execution_count": 20,
     "metadata": {},
     "output_type": "execute_result"
    }
   ],
   "source": [
    "# 8. Consider a (6,7,8) shape array, what is the index (x,y,z) of the 100th element\n",
    "a = np.empty(shape=(6,7,8),dtype=int)\n",
    "a.shape\n",
    "a.ndim\n",
    "np.unravel_index(100,(6,7,8))"
   ]
  },
  {
   "cell_type": "code",
   "execution_count": 21,
   "metadata": {},
   "outputs": [],
   "source": [
    "# 9. Multiply a 5x3 matrix by a 3x2 matrix (real matrix product)\n",
    "a = np.arange(0,15).reshape(5,3)\n",
    "b = np.arange(0,6).reshape(3,2)"
   ]
  },
  {
   "cell_type": "code",
   "execution_count": 22,
   "metadata": {},
   "outputs": [
    {
     "ename": "ValueError",
     "evalue": "operands could not be broadcast together with shapes (5,3) (3,2) ",
     "output_type": "error",
     "traceback": [
      "\u001b[1;31m---------------------------------------------------------------------------\u001b[0m",
      "\u001b[1;31mValueError\u001b[0m                                Traceback (most recent call last)",
      "\u001b[1;32m<ipython-input-22-b7bda92ab2fa>\u001b[0m in \u001b[0;36m<module>\u001b[1;34m()\u001b[0m\n\u001b[1;32m----> 1\u001b[1;33m \u001b[0ma\u001b[0m\u001b[1;33m*\u001b[0m\u001b[0mb\u001b[0m\u001b[1;33m\u001b[0m\u001b[0m\n\u001b[0m\u001b[0;32m      2\u001b[0m \u001b[1;31m# Which is not possible actually, to acheive this we do broadcasting\u001b[0m\u001b[1;33m\u001b[0m\u001b[1;33m\u001b[0m\u001b[0m\n",
      "\u001b[1;31mValueError\u001b[0m: operands could not be broadcast together with shapes (5,3) (3,2) "
     ]
    }
   ],
   "source": [
    "a*b\n",
    "# Which is not possible actually, to acheive this we do broadcasting"
   ]
  },
  {
   "cell_type": "code",
   "execution_count": 23,
   "metadata": {},
   "outputs": [
    {
     "data": {
      "text/plain": [
       "array([[[ 0,  0],\n",
       "        [ 2,  3],\n",
       "        [ 8, 10]],\n",
       "\n",
       "       [[ 0,  3],\n",
       "        [ 8, 12],\n",
       "        [20, 25]],\n",
       "\n",
       "       [[ 0,  6],\n",
       "        [14, 21],\n",
       "        [32, 40]],\n",
       "\n",
       "       [[ 0,  9],\n",
       "        [20, 30],\n",
       "        [44, 55]],\n",
       "\n",
       "       [[ 0, 12],\n",
       "        [26, 39],\n",
       "        [56, 70]]])"
      ]
     },
     "execution_count": 23,
     "metadata": {},
     "output_type": "execute_result"
    }
   ],
   "source": [
    "# Broadcasting\n",
    "a_new = a.reshape(5,3,1)\n",
    "b_new = b.reshape(1,3,2)\n",
    "a_new*b_new"
   ]
  },
  {
   "cell_type": "code",
   "execution_count": 24,
   "metadata": {},
   "outputs": [
    {
     "data": {
      "text/plain": [
       "3"
      ]
     },
     "execution_count": 24,
     "metadata": {},
     "output_type": "execute_result"
    }
   ],
   "source": [
    "# 10. Extract the integer part of a random array\n",
    "num = 3.14154545\n",
    "n = int(np.round(num))\n",
    "n"
   ]
  },
  {
   "cell_type": "code",
   "execution_count": 25,
   "metadata": {},
   "outputs": [
    {
     "data": {
      "text/plain": [
       "array([[2, 3, 1, 1, 0],\n",
       "       [1, 3, 1, 3, 2],\n",
       "       [3, 0, 2, 3, 1],\n",
       "       [3, 3, 2, 0, 1],\n",
       "       [3, 0, 0, 1, 1]])"
      ]
     },
     "execution_count": 25,
     "metadata": {},
     "output_type": "execute_result"
    }
   ],
   "source": [
    "# 11. Create a 5x5 matrix with row values ranging from 0 to 4\n",
    "a = np.random.randint(0,4,size=(5,5))\n",
    "a"
   ]
  },
  {
   "cell_type": "code",
   "execution_count": 26,
   "metadata": {},
   "outputs": [
    {
     "data": {
      "text/plain": [
       "array([0.1063401 , 0.24993123, 0.34456366, 0.39256892, 0.49070857,\n",
       "       0.52160788, 0.71538583, 0.84750692, 0.85044562, 0.9106466 ])"
      ]
     },
     "execution_count": 26,
     "metadata": {},
     "output_type": "execute_result"
    }
   ],
   "source": [
    "# 12. Create a random vector of size 10 and sort it\n",
    "a = np.random.random(10)\n",
    "a\n",
    "a.sort()\n",
    "a"
   ]
  },
  {
   "cell_type": "code",
   "execution_count": 27,
   "metadata": {},
   "outputs": [
    {
     "data": {
      "text/plain": [
       "array([[False, False, False],\n",
       "       [False, False, False],\n",
       "       [False, False, False]])"
      ]
     },
     "execution_count": 27,
     "metadata": {},
     "output_type": "execute_result"
    }
   ],
   "source": [
    "# 13. Consider two random array A anb B, check if they are equal\n",
    "A = np.random.random((3,3))\n",
    "B = np.random.random((3,3))\n",
    "A==B"
   ]
  },
  {
   "cell_type": "code",
   "execution_count": 30,
   "metadata": {},
   "outputs": [
    {
     "data": {
      "text/plain": [
       "array([[[   0,    0,    0],\n",
       "        [   3,    4,    5],\n",
       "        [  12,   14,   16],\n",
       "        [  27,   30,   33],\n",
       "        [  48,   52,   56]],\n",
       "\n",
       "       [[  75,   80,   85],\n",
       "        [ 108,  114,  120],\n",
       "        [ 147,  154,  161],\n",
       "        [ 192,  200,  208],\n",
       "        [ 243,  252,  261]],\n",
       "\n",
       "       [[ 300,  310,  320],\n",
       "        [ 363,  374,  385],\n",
       "        [ 432,  444,  456],\n",
       "        [ 507,  520,  533],\n",
       "        [ 588,  602,  616]],\n",
       "\n",
       "       [[ 675,  690,  705],\n",
       "        [ 768,  784,  800],\n",
       "        [ 867,  884,  901],\n",
       "        [ 972,  990, 1008],\n",
       "        [1083, 1102, 1121]],\n",
       "\n",
       "       [[1200, 1220, 1240],\n",
       "        [1323, 1344, 1365],\n",
       "        [1452, 1474, 1496],\n",
       "        [1587, 1610, 1633],\n",
       "        [1728, 1752, 1776]]])"
      ]
     },
     "execution_count": 30,
     "metadata": {},
     "output_type": "execute_result"
    }
   ],
   "source": [
    "# 14.Consider an array of dimension (5,5,3), how to mulitply it by an array with dimensions (5,5)?\n",
    "a = np.arange(75).reshape(5,5,3)\n",
    "b = np.arange(25).reshape(5,5)\n",
    "b_new = b.reshape(5,5,1)\n",
    "a*b_new"
   ]
  }
 ],
 "metadata": {
  "kernelspec": {
   "display_name": "Python 3",
   "language": "python",
   "name": "python3"
  },
  "language_info": {
   "codemirror_mode": {
    "name": "ipython",
    "version": 3
   },
   "file_extension": ".py",
   "mimetype": "text/x-python",
   "name": "python",
   "nbconvert_exporter": "python",
   "pygments_lexer": "ipython3",
   "version": "3.6.4"
  }
 },
 "nbformat": 4,
 "nbformat_minor": 2
}
